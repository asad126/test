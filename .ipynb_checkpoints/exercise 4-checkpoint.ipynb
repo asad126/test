{
 "cells": [
  {
   "cell_type": "markdown",
   "metadata": {},
   "source": [
    "# Office Task\n",
    "# Exercise 4 \n"
   ]
  },
  {
   "cell_type": "markdown",
   "metadata": {},
   "source": [
    "1. Create a function using 'lambda' for exponent of a given number. Take two\n",
    "arguments one as the number and the other one as the exponent."
   ]
  },
  {
   "cell_type": "code",
   "execution_count": 3,
   "metadata": {},
   "outputs": [
    {
     "data": {
      "text/plain": [
       "27"
      ]
     },
     "execution_count": 3,
     "metadata": {},
     "output_type": "execute_result"
    }
   ],
   "source": [
    "expo = lambda a,b:a**b\n",
    "expo(3,3)"
   ]
  },
  {
   "cell_type": "markdown",
   "metadata": {},
   "source": [
    "2. Create an assertion for a string to check the length of the string being minimum of\n",
    "10 letters."
   ]
  },
  {
   "cell_type": "code",
   "execution_count": 7,
   "metadata": {},
   "outputs": [
    {
     "name": "stdout",
     "output_type": "stream",
     "text": [
      "Enter String:\n",
      "Enter string of minimum 10 letters\n"
     ]
    }
   ],
   "source": [
    "s = input(\"Enter String:\")\n",
    "if len(s)>=10:\n",
    "    print(s)\n",
    "else:\n",
    "    print(\"Enter string of minimum 10 letters\")"
   ]
  },
  {
   "cell_type": "markdown",
   "metadata": {},
   "source": [
    "\n",
    "3. Read a file 'python.txt' which is containing python code and execute the python\n",
    "code which is read from the file."
   ]
  },
  {
   "cell_type": "code",
   "execution_count": 42,
   "metadata": {},
   "outputs": [
    {
     "name": "stdout",
     "output_type": "stream",
     "text": [
      "Enter String:sadgdhjm,k\n",
      "sadgdhjm,k\n"
     ]
    }
   ],
   "source": [
    "# fileread = open(\"python.txt\",'r')\n",
    "# %run fileread.py\n",
    "%run python.txt"
   ]
  },
  {
   "cell_type": "code",
   "execution_count": null,
   "metadata": {},
   "outputs": [],
   "source": []
  },
  {
   "cell_type": "code",
   "execution_count": null,
   "metadata": {},
   "outputs": [],
   "source": []
  },
  {
   "cell_type": "markdown",
   "metadata": {},
   "source": [
    "\n",
    "4. Using range get me a list of 1 to 10 and from this list generate a list as\n",
    "[13,15,17,19,21,23,25,27,29,31]. Code needs to be done in one line only."
   ]
  },
  {
   "cell_type": "code",
   "execution_count": 45,
   "metadata": {},
   "outputs": [
    {
     "name": "stdout",
     "output_type": "stream",
     "text": [
      "[13, 15, 17, 19, 21, 23, 25, 27, 29, 31]\n"
     ]
    }
   ],
   "source": [
    "lst = [i+i+11 for i in range(1,11) ]\n",
    "print(lst)"
   ]
  },
  {
   "cell_type": "markdown",
   "metadata": {},
   "source": [
    "5. Using range get me a list of even numbers between 1 to 100. Code needs to be\n",
    "done in one line only."
   ]
  },
  {
   "cell_type": "code",
   "execution_count": 28,
   "metadata": {},
   "outputs": [
    {
     "name": "stdout",
     "output_type": "stream",
     "text": [
      "[2, 4, 6, 8, 10, 12, 14, 16, 18, 20, 22, 24, 26, 28, 30, 32, 34, 36, 38, 40, 42, 44, 46, 48, 50, 52, 54, 56, 58, 60, 62, 64, 66, 68, 70, 72, 74, 76, 78, 80, 82, 84, 86, 88, 90, 92, 94, 96, 98]\n"
     ]
    }
   ],
   "source": [
    "even = [i for i in range(1,100) if i%2==0]\n",
    "print(even)"
   ]
  },
  {
   "cell_type": "markdown",
   "metadata": {},
   "source": [
    "6. Generate a list of exponents of first 25 integers. Code needs to be in one line only."
   ]
  },
  {
   "cell_type": "code",
   "execution_count": 29,
   "metadata": {},
   "outputs": [
    {
     "name": "stdout",
     "output_type": "stream",
     "text": [
      "[1, 4, 9, 16, 25, 36, 49, 64, 81, 100, 121, 144, 169, 196, 225, 256, 289, 324, 361, 400, 441, 484, 529, 576, 625]\n"
     ]
    }
   ],
   "source": [
    "expo = [i**2 for i in range(1,26)]\n",
    "print(expo)"
   ]
  },
  {
   "cell_type": "markdown",
   "metadata": {},
   "source": [
    "\n",
    "7. Create a generator method to have the prime numbers using yield between 1 to\n",
    "100."
   ]
  },
  {
   "cell_type": "code",
   "execution_count": 14,
   "metadata": {},
   "outputs": [],
   "source": [
    "def prime():\n",
    "    for a in range(2,100+1):  \n",
    "        k=0  \n",
    "        for i in range(2,a//2+1):  \n",
    "            if(a%i==0):  \n",
    "                k=k+1  \n",
    "        if(k<=0):  \n",
    "            yield a  "
   ]
  },
  {
   "cell_type": "code",
   "execution_count": 15,
   "metadata": {},
   "outputs": [],
   "source": [
    "a = prime()"
   ]
  },
  {
   "cell_type": "code",
   "execution_count": 20,
   "metadata": {},
   "outputs": [
    {
     "data": {
      "text/plain": [
       "11"
      ]
     },
     "execution_count": 20,
     "metadata": {},
     "output_type": "execute_result"
    }
   ],
   "source": [
    "next(a)"
   ]
  },
  {
   "cell_type": "markdown",
   "metadata": {},
   "source": [
    "8. Create a generator method which gives random numbers between 1 to 100 and\n",
    "the number not being repeated. Make sure it generates only 10 numbers."
   ]
  },
  {
   "cell_type": "code",
   "execution_count": 9,
   "metadata": {},
   "outputs": [],
   "source": [
    "import random"
   ]
  },
  {
   "cell_type": "code",
   "execution_count": 10,
   "metadata": {},
   "outputs": [],
   "source": [
    "def randomNum():\n",
    "    n=0\n",
    "    lst = []\n",
    "    while n<10:\n",
    "        num = random.randint(1,100)\n",
    "        if num not in lst:\n",
    "            lst.append(num)\n",
    "            n +=1\n",
    "            yield num\n",
    "    else:\n",
    "        print(\"limit over\")\n",
    "           \n",
    "number = randomNum() "
   ]
  },
  {
   "cell_type": "code",
   "execution_count": 13,
   "metadata": {},
   "outputs": [
    {
     "data": {
      "text/plain": [
       "11"
      ]
     },
     "execution_count": 13,
     "metadata": {},
     "output_type": "execute_result"
    }
   ],
   "source": [
    "next(number)"
   ]
  },
  {
   "cell_type": "markdown",
   "metadata": {},
   "source": [
    "9. Convert a decimal number '15' to binary, hexadecimal, octal numbers."
   ]
  },
  {
   "cell_type": "code",
   "execution_count": 30,
   "metadata": {},
   "outputs": [
    {
     "name": "stdout",
     "output_type": "stream",
     "text": [
      "0b1111\n",
      "0o17\n",
      "0xf\n"
     ]
    }
   ],
   "source": [
    "x = 15\n",
    "print(bin(15))\n",
    "print(oct(15))\n",
    "print(hex(15))"
   ]
  },
  {
   "cell_type": "markdown",
   "metadata": {},
   "source": [
    "\n",
    "10. Convert a Hexadecimal number '10' to binary, decimal and octal numbers."
   ]
  },
  {
   "cell_type": "code",
   "execution_count": 33,
   "metadata": {},
   "outputs": [
    {
     "name": "stdout",
     "output_type": "stream",
     "text": [
      "16\n",
      "0b10000\n",
      "0o20\n"
     ]
    }
   ],
   "source": [
    "x = '10'\n",
    "x = int(x,16)\n",
    "print(x)#decimal\n",
    "print(bin(x))\n",
    "print(oct(x))"
   ]
  },
  {
   "cell_type": "markdown",
   "metadata": {},
   "source": [
    "11. Convert an Octal number '13' to binary, decimal and hexadecimal numbers."
   ]
  },
  {
   "cell_type": "code",
   "execution_count": 35,
   "metadata": {},
   "outputs": [
    {
     "name": "stdout",
     "output_type": "stream",
     "text": [
      "11\n",
      "0b1011\n",
      "0xb\n"
     ]
    }
   ],
   "source": [
    "x = '13'\n",
    "x = int(x,8)\n",
    "print(x)\n",
    "print(bin(x))\n",
    "print(hex(x))"
   ]
  },
  {
   "cell_type": "markdown",
   "metadata": {},
   "source": [
    "12. Convert Binary number '11010001111100111' to decimal, hexadecimal and octal\n",
    "numbers."
   ]
  },
  {
   "cell_type": "code",
   "execution_count": 37,
   "metadata": {},
   "outputs": [
    {
     "name": "stdout",
     "output_type": "stream",
     "text": [
      "107495\n",
      "0o321747\n",
      "0x1a3e7\n"
     ]
    }
   ],
   "source": [
    "x = '11010001111100111'\n",
    "x = int(x, 2)\n",
    "print(x)\n",
    "print(oct(x))\n",
    "print(hex(x))"
   ]
  },
  {
   "cell_type": "markdown",
   "metadata": {},
   "source": [
    "13. Create a dictionary containing all the Capital Letters 'A-Z', Small Letters 'a-z', and\n",
    "Digits '0-9' as keys and their ascii values as values using generators."
   ]
  },
  {
   "cell_type": "code",
   "execution_count": 33,
   "metadata": {},
   "outputs": [],
   "source": [
    "import string"
   ]
  },
  {
   "cell_type": "code",
   "execution_count": 34,
   "metadata": {},
   "outputs": [
    {
     "data": {
      "text/plain": [
       "{'a': 97,\n",
       " 'b': 98,\n",
       " 'c': 99,\n",
       " 'd': 100,\n",
       " 'e': 101,\n",
       " 'f': 102,\n",
       " 'g': 103,\n",
       " 'h': 104,\n",
       " 'i': 105,\n",
       " 'j': 106,\n",
       " 'k': 107,\n",
       " 'l': 108,\n",
       " 'm': 109,\n",
       " 'n': 110,\n",
       " 'o': 111,\n",
       " 'p': 112,\n",
       " 'q': 113,\n",
       " 'r': 114,\n",
       " 's': 115,\n",
       " 't': 116,\n",
       " 'u': 117,\n",
       " 'v': 118,\n",
       " 'w': 119,\n",
       " 'x': 120,\n",
       " 'y': 121,\n",
       " 'z': 122}"
      ]
     },
     "execution_count": 34,
     "metadata": {},
     "output_type": "execute_result"
    }
   ],
   "source": [
    "\n",
    "\n",
    "lower = {l: ord(l) for l in string.ascii_lowercase}\n",
    "lower"
   ]
  },
  {
   "cell_type": "code",
   "execution_count": 38,
   "metadata": {},
   "outputs": [],
   "source": [
    "\n",
    "upper = {u: ord(u) for u in string.ascii_uppercase}\n",
    "upper\n",
    "\n",
    "\n"
   ]
  },
  {
   "cell_type": "code",
   "execution_count": 50,
   "metadata": {},
   "outputs": [
    {
     "data": {
      "text/plain": [
       "{'0': 48,\n",
       " '1': 49,\n",
       " '2': 50,\n",
       " '3': 51,\n",
       " '4': 52,\n",
       " '5': 53,\n",
       " '6': 54,\n",
       " '7': 55,\n",
       " '8': 56,\n",
       " '9': 57}"
      ]
     },
     "execution_count": 50,
     "metadata": {},
     "output_type": "execute_result"
    }
   ],
   "source": [
    "digits = {d: ord(d) for d in string.digits}\n",
    "digits\n"
   ]
  },
  {
   "cell_type": "markdown",
   "metadata": {},
   "source": [
    "14. Get an absolute value of any negative integer."
   ]
  },
  {
   "cell_type": "code",
   "execution_count": 38,
   "metadata": {},
   "outputs": [
    {
     "name": "stdout",
     "output_type": "stream",
     "text": [
      "Enter any negative number:-15\n",
      "15\n"
     ]
    }
   ],
   "source": [
    "n = int(input(\"Enter any negative number:\"))\n",
    "print(abs(n))"
   ]
  },
  {
   "cell_type": "markdown",
   "metadata": {},
   "source": [
    "15. Get me a divisor and remainder dividing 5 by 2. Code should be in one line."
   ]
  },
  {
   "cell_type": "code",
   "execution_count": 51,
   "metadata": {},
   "outputs": [
    {
     "name": "stdout",
     "output_type": "stream",
     "text": [
      "2.5 1\n"
     ]
    }
   ],
   "source": [
    "print(5/2, 5%2)"
   ]
  },
  {
   "cell_type": "markdown",
   "metadata": {},
   "source": [
    "16. Compare two numbers and get me the maximum number with a built-in function."
   ]
  },
  {
   "cell_type": "code",
   "execution_count": 52,
   "metadata": {},
   "outputs": [
    {
     "data": {
      "text/plain": [
       "15"
      ]
     },
     "execution_count": 52,
     "metadata": {},
     "output_type": "execute_result"
    }
   ],
   "source": [
    "max(10,15)"
   ]
  },
  {
   "cell_type": "markdown",
   "metadata": {},
   "source": [
    "\f",
    "17. Create a class with member variables. Now perform the following.\n",
    "1. Check whether an attribute exists in the class or not.\n",
    "2. Fetch the value of an attribute of a class.\n",
    "3. Update the value of an attribute of a class.\n",
    "4. Delete the attribute of a class."
   ]
  },
  {
   "cell_type": "code",
   "execution_count": 60,
   "metadata": {},
   "outputs": [
    {
     "name": "stdout",
     "output_type": "stream",
     "text": [
      "asad\n",
      "21\n",
      "techultra\n"
     ]
    },
    {
     "ename": "AttributeError",
     "evalue": "'Person' object has no attribute 'name'",
     "output_type": "error",
     "traceback": [
      "\u001b[1;31m---------------------------------------------------------------------------\u001b[0m",
      "\u001b[1;31mAttributeError\u001b[0m                            Traceback (most recent call last)",
      "\u001b[1;32m<ipython-input-60-8bf8c16a9186>\u001b[0m in \u001b[0;36m<module>\u001b[1;34m\u001b[0m\n\u001b[0;32m     16\u001b[0m \u001b[0mprint\u001b[0m\u001b[1;33m(\u001b[0m\u001b[0mp\u001b[0m\u001b[1;33m.\u001b[0m\u001b[0mname\u001b[0m\u001b[1;33m)\u001b[0m\u001b[1;33m\u001b[0m\u001b[1;33m\u001b[0m\u001b[0m\n\u001b[0;32m     17\u001b[0m \u001b[0mdelattr\u001b[0m\u001b[1;33m(\u001b[0m\u001b[0mp\u001b[0m\u001b[1;33m,\u001b[0m\u001b[1;34m'name'\u001b[0m\u001b[1;33m)\u001b[0m\u001b[1;33m\u001b[0m\u001b[1;33m\u001b[0m\u001b[0m\n\u001b[1;32m---> 18\u001b[1;33m \u001b[0mprint\u001b[0m\u001b[1;33m(\u001b[0m\u001b[0mp\u001b[0m\u001b[1;33m.\u001b[0m\u001b[0mname\u001b[0m\u001b[1;33m)\u001b[0m\u001b[1;33m\u001b[0m\u001b[1;33m\u001b[0m\u001b[0m\n\u001b[0m",
      "\u001b[1;31mAttributeError\u001b[0m: 'Person' object has no attribute 'name'"
     ]
    }
   ],
   "source": [
    "class Person():\n",
    "    \n",
    "    def __init__(self,name,age):\n",
    "        self.name=name\n",
    "        self.age = age\n",
    "        \n",
    "    def updateName(self,name):\n",
    "        self.name=name\n",
    "        \n",
    "p = Person('asad',21)\n",
    "print(p.name)\n",
    "print(p.age)\n",
    "hasattr(p,'name')\n",
    "getattr(p,'age')\n",
    "setattr(p,'name','techultra')\n",
    "print(p.name)\n",
    "delattr(p,'name')\n",
    "print(p.name)"
   ]
  },
  {
   "cell_type": "markdown",
   "metadata": {},
   "source": [
    "\n",
    "18. Generate a list of having 10 elements using random but the numbers shoudl be\n",
    "either 1 or 0. Check if all the elements are 1 print “ALL” and if any of the single\n",
    "element is 1 print “ANY” and if all the elements are 0 print “NONE”."
   ]
  },
  {
   "cell_type": "code",
   "execution_count": 61,
   "metadata": {},
   "outputs": [],
   "source": [
    "import random"
   ]
  },
  {
   "cell_type": "code",
   "execution_count": 65,
   "metadata": {},
   "outputs": [
    {
     "name": "stdout",
     "output_type": "stream",
     "text": [
      "ANY\n"
     ]
    }
   ],
   "source": [
    "lst = [random.randint(0,1) for i in range(0,10)]\n",
    "if all(lst):\n",
    "    print(\"ALL\")\n",
    "elif any(lst):\n",
    "    print(\"ANY\")\n",
    "else:\n",
    "    print(\"NONE\")"
   ]
  },
  {
   "cell_type": "markdown",
   "metadata": {},
   "source": [
    "19. Get 10 random numbers in a list and get the maximum number from the list."
   ]
  },
  {
   "cell_type": "code",
   "execution_count": 69,
   "metadata": {},
   "outputs": [
    {
     "data": {
      "text/plain": [
       "97"
      ]
     },
     "execution_count": 69,
     "metadata": {},
     "output_type": "execute_result"
    }
   ],
   "source": [
    "lst = max([random.randint(1,100) for i in range(0,10)])\n",
    "lst"
   ]
  },
  {
   "cell_type": "markdown",
   "metadata": {},
   "source": [
    "20. Get 10 random numbers in a list and get the minimum number from the list."
   ]
  },
  {
   "cell_type": "code",
   "execution_count": 72,
   "metadata": {},
   "outputs": [
    {
     "data": {
      "text/plain": [
       "5"
      ]
     },
     "execution_count": 72,
     "metadata": {},
     "output_type": "execute_result"
    }
   ],
   "source": [
    "lst = min([random.randint(1,100) for i in range(0,10)])\n",
    "lst"
   ]
  },
  {
   "cell_type": "markdown",
   "metadata": {},
   "source": [
    "\n",
    "21. Get 10 random numbers from 1 to 100 in a list and create two separate lists from\n",
    "it for odd and even numbers using filter."
   ]
  },
  {
   "cell_type": "code",
   "execution_count": 83,
   "metadata": {},
   "outputs": [
    {
     "name": "stdout",
     "output_type": "stream",
     "text": [
      "[41, 24, 1, 32, 96, 54, 73, 97, 78, 56]\n",
      "[24, 32, 96, 54, 78, 56]\n",
      "[41, 1, 73, 97]\n"
     ]
    }
   ],
   "source": [
    "\n",
    "lst = [random.randint(1,100) for i in range(0,10)]\n",
    "print(lst)\n",
    "even = [i for i in lst if i%2==0]\n",
    "odd =  [i for i in lst if i%2!=0]\n",
    "print(even)\n",
    "print(odd)"
   ]
  },
  {
   "cell_type": "markdown",
   "metadata": {},
   "source": [
    "22. Using map generate cubes of first 10 numbers."
   ]
  },
  {
   "cell_type": "code",
   "execution_count": 86,
   "metadata": {},
   "outputs": [
    {
     "name": "stdout",
     "output_type": "stream",
     "text": [
      "[1, 8, 27, 64, 125, 216, 343, 512, 729, 1000]\n"
     ]
    }
   ],
   "source": [
    "def cube(x):\n",
    "    return x**3\n",
    "\n",
    "lst = [i for i in range(1,11)]\n",
    "#print(lst)\n",
    "a = map(cube,lst)\n",
    "print(list(a))"
   ]
  },
  {
   "cell_type": "markdown",
   "metadata": {},
   "source": [
    "23. Using map generate a list from two lists by multiplying the elements in the two\n",
    "lists on the identical indexes in both the lists.\n"
   ]
  },
  {
   "cell_type": "code",
   "execution_count": 94,
   "metadata": {},
   "outputs": [
    {
     "name": "stdout",
     "output_type": "stream",
     "text": [
      "[1, 4, 9, 16, 25]\n"
     ]
    }
   ],
   "source": [
    "lst1=[1,2,3,4,5]\n",
    "lst2=[1,2,3,4,5]\n",
    "\n",
    "def mul(a):\n",
    "    return a[0]*a[1]\n",
    "\n",
    "# lst = [(a,b) for a,b in zip(lst1,lst2)]\n",
    "# print(lst)\n",
    "final = map(mul,[(a,b) for a,b in zip(lst1,lst2)])\n",
    "print(list(final))"
   ]
  },
  {
   "cell_type": "markdown",
   "metadata": {},
   "source": [
    "24. Generate 15 random numbers from 1 to 100 and get the total of all these numbers."
   ]
  },
  {
   "cell_type": "code",
   "execution_count": 97,
   "metadata": {},
   "outputs": [
    {
     "name": "stdout",
     "output_type": "stream",
     "text": [
      "670\n"
     ]
    }
   ],
   "source": [
    "ran = print(sum([random.randint(1,100) for i in range(0,15)]))"
   ]
  },
  {
   "cell_type": "markdown",
   "metadata": {},
   "source": [
    "25. Get a list of 10 random characters and then merge all the characters in a single\n",
    "string."
   ]
  },
  {
   "cell_type": "code",
   "execution_count": 100,
   "metadata": {},
   "outputs": [
    {
     "data": {
      "text/plain": [
       "'oksyzvkhhc'"
      ]
     },
     "execution_count": 100,
     "metadata": {},
     "output_type": "execute_result"
    }
   ],
   "source": [
    "s = ''.join([random.choice(string.ascii_lowercase) for i in range(0,10)])\n",
    "s"
   ]
  },
  {
   "cell_type": "markdown",
   "metadata": {},
   "source": [
    "26. Create a class with few methods and in one of the method get all the global\n",
    "attributes that can be used in that method and also the local attributes that can be\n",
    "used in that method."
   ]
  },
  {
   "cell_type": "code",
   "execution_count": 107,
   "metadata": {},
   "outputs": [
    {
     "data": {
      "text/plain": [
       "2"
      ]
     },
     "execution_count": 107,
     "metadata": {},
     "output_type": "execute_result"
    }
   ],
   "source": [
    "class Dog:\n",
    "    \n",
    "    total = 0\n",
    "    def __init__(self,name,breed,color):\n",
    "        self.name = name\n",
    "        self.breed = breed\n",
    "        self.color = color\n",
    "        Dog.total += 1\n",
    "        \n",
    "    def running(self,run):\n",
    "        self.run = run\n",
    "    \n",
    "    def no_of_dogs(self,total):\n",
    "        return Dog.total \n",
    "    \n",
    "d1 = Dog('john','bulldog','grey')\n",
    "d2 = Dog('mike','german shephard','orange')\n",
    "\n",
    "d1.name = 'tom'\n",
    "d1.name\n",
    "\n",
    "#d2.total = 2\n",
    "d2.total"
   ]
  },
  {
   "cell_type": "markdown",
   "metadata": {},
   "source": [
    "27. Create two classes one as a parent and the other as a child. Make a validation\n",
    "whether the child is a subclass of parent or not."
   ]
  },
  {
   "cell_type": "code",
   "execution_count": 109,
   "metadata": {},
   "outputs": [
    {
     "data": {
      "text/plain": [
       "True"
      ]
     },
     "execution_count": 109,
     "metadata": {},
     "output_type": "execute_result"
    }
   ],
   "source": [
    "class Parent():\n",
    "    pass\n",
    "\n",
    "class Child(Parent):\n",
    "    pass\n",
    "\n",
    "c = Child()\n",
    "isinstance(c,Parent)"
   ]
  },
  {
   "cell_type": "markdown",
   "metadata": {},
   "source": [
    "\n",
    "28. Get two lists ['a','b','c','d','e'],[1,2,3,4,5] and generate a single dictionary\n",
    "{'a':1,'b':2,'c':3,'d':4,'e':5} with the identical indexed items.\n"
   ]
  },
  {
   "cell_type": "code",
   "execution_count": 110,
   "metadata": {},
   "outputs": [
    {
     "name": "stdout",
     "output_type": "stream",
     "text": [
      "{'a': 1, 'b': 2, 'c': 3, 'd': 4, 'e': 5}\n"
     ]
    }
   ],
   "source": [
    "lst1 = ['a','b','c','d','e']\n",
    "lst2 = [1,2,3,4,5]\n",
    "d = {}\n",
    "for a,b in zip(lst1,lst2):\n",
    "    d[a]=b\n",
    "\n",
    "print(d)"
   ]
  },
  {
   "cell_type": "markdown",
   "metadata": {},
   "source": [
    "29. Sort a list of random 25 numbers between 1 to 100 without using the sort method."
   ]
  },
  {
   "cell_type": "code",
   "execution_count": 114,
   "metadata": {},
   "outputs": [
    {
     "name": "stdout",
     "output_type": "stream",
     "text": [
      "[1, 4, 4, 5, 6, 8, 10, 17, 23, 24, 28, 31, 31, 31, 34, 43, 43, 44, 48, 58, 71, 88, 90, 94, 96]\n"
     ]
    }
   ],
   "source": [
    "lst = [random.randint(1,100) for i in range(0,25)]\n",
    "for i in range(len(lst)):\n",
    "    for j in range(i,len(lst)):\n",
    "        if lst[i]>lst[j]:\n",
    "            lst[i],lst[j] = lst[j],lst[i]\n",
    "print(lst)\n",
    "    "
   ]
  },
  {
   "cell_type": "markdown",
   "metadata": {},
   "source": [
    "\n",
    "30. Create a function for addition of two numbers. Create a validation that both of\n",
    "them must be either float or integer using a built in method."
   ]
  },
  {
   "cell_type": "code",
   "execution_count": 125,
   "metadata": {},
   "outputs": [
    {
     "data": {
      "text/plain": [
       "8"
      ]
     },
     "execution_count": 125,
     "metadata": {},
     "output_type": "execute_result"
    }
   ],
   "source": [
    "def add(a,b):\n",
    "    if isinstance(a,int) and isinstance(b,int) or isinstance(a,float) and isinstance(b,float):\n",
    "        return a+b\n",
    "    else:\n",
    "        return 'Enter either both int or float'\n",
    "\n",
    "\n",
    "add(3,5)"
   ]
  },
  {
   "cell_type": "markdown",
   "metadata": {},
   "source": [
    "\f",
    "31. Create a decorator that adds two random values between 1 to 10 to the functions\n",
    "where this decorator is used. Create 4 functions add, sub, mul, div which will have\n",
    "this decorator and call the 4 functions. When you’re calling the function you should\n",
    "not pass any parameter however all the functions will be defined with parameters."
   ]
  },
  {
   "cell_type": "code",
   "execution_count": 22,
   "metadata": {},
   "outputs": [
    {
     "name": "stdout",
     "output_type": "stream",
     "text": [
      "84\n",
      "-9\n",
      "3588\n",
      "0.6704545454545454\n"
     ]
    },
    {
     "ename": "TypeError",
     "evalue": "'NoneType' object is not callable",
     "output_type": "error",
     "traceback": [
      "\u001b[0;31m---------------------------------------------------------------------------\u001b[0m",
      "\u001b[0;31mTypeError\u001b[0m                                 Traceback (most recent call last)",
      "\u001b[0;32m<ipython-input-22-6c62bbd059e5>\u001b[0m in \u001b[0;36m<module>\u001b[0;34m\u001b[0m\n\u001b[1;32m     22\u001b[0m \u001b[0;34m\u001b[0m\u001b[0m\n\u001b[1;32m     23\u001b[0m \u001b[0;34m\u001b[0m\u001b[0m\n\u001b[0;32m---> 24\u001b[0;31m \u001b[0madd\u001b[0m\u001b[0;34m(\u001b[0m\u001b[0;34m)\u001b[0m\u001b[0;34m\u001b[0m\u001b[0;34m\u001b[0m\u001b[0m\n\u001b[0m\u001b[1;32m     25\u001b[0m \u001b[0msub\u001b[0m\u001b[0;34m(\u001b[0m\u001b[0;34m)\u001b[0m\u001b[0;34m\u001b[0m\u001b[0;34m\u001b[0m\u001b[0m\n\u001b[1;32m     26\u001b[0m \u001b[0mmul\u001b[0m\u001b[0;34m(\u001b[0m\u001b[0;34m)\u001b[0m\u001b[0;34m\u001b[0m\u001b[0;34m\u001b[0m\u001b[0m\n",
      "\u001b[0;31mTypeError\u001b[0m: 'NoneType' object is not callable"
     ]
    }
   ],
   "source": [
    "def decor(func):\n",
    "    def inner():\n",
    "        func()\n",
    "    return inner()\n",
    "    \n",
    "\n",
    "@decor\n",
    "def add():\n",
    "    print(random.randint(1,100)+random.randint(1,100))\n",
    "\n",
    "@decor\n",
    "def sub():\n",
    "    print(random.randint(1,100)-random.randint(1,100))\n",
    "\n",
    "@decor\n",
    "def mul():\n",
    "    print(random.randint(1,100)*random.randint(1,100))\n",
    "\n",
    "@decor\n",
    "def div():\n",
    "    print(random.randint(1,100)/random.randint(1,100))\n",
    "\n",
    "\n",
    "add()\n",
    "sub()\n",
    "mul()\n",
    "div()"
   ]
  },
  {
   "cell_type": "markdown",
   "metadata": {},
   "source": [
    "32. Create two different decorators. One will give the square of a number and the other one will increase the number by 10. Assign these two decorators to a function such that first the square of the no will be done and then 10 will be added and then the function operation will be done."
   ]
  },
  {
   "cell_type": "code",
   "execution_count": 23,
   "metadata": {},
   "outputs": [
    {
     "name": "stdout",
     "output_type": "stream",
     "text": [
      "14\n"
     ]
    }
   ],
   "source": [
    "def decor1(a):\n",
    "    def square(a):\n",
    "        return a**2\n",
    "    return square\n",
    "\n",
    "def decor2(a):\n",
    "    def add_ten(a):\n",
    "        return a+10\n",
    "    return add_ten\n",
    "\n",
    "@decor1\n",
    "def sq(a):\n",
    "    return a\n",
    "\n",
    "@decor2\n",
    "def ten(a):\n",
    "    return a\n",
    "\n",
    "print(ten(sq(2)))"
   ]
  },
  {
   "cell_type": "markdown",
   "metadata": {},
   "source": [
    "33. Create a decorator with 2 parameters. Assign these decorator to a function which also has 2 parameters. Multiply the parameters passed in the decorator and pass it to the function which is decorated by this decorator as an argument when calling the function from decorator."
   ]
  },
  {
   "cell_type": "code",
   "execution_count": 25,
   "metadata": {},
   "outputs": [
    {
     "data": {
      "text/plain": [
       "50"
      ]
     },
     "execution_count": 25,
     "metadata": {},
     "output_type": "execute_result"
    }
   ],
   "source": [
    "def decor(func):\n",
    "    def mul(a,b):\n",
    "        return func(a,b)\n",
    "    return mul\n",
    "\n",
    "@decor\n",
    "def func(a,b):\n",
    "    return a*b\n",
    "\n",
    "func(5,10)"
   ]
  },
  {
   "cell_type": "markdown",
   "metadata": {},
   "source": [
    "# Practice"
   ]
  },
  {
   "cell_type": "code",
   "execution_count": 31,
   "metadata": {},
   "outputs": [
    {
     "name": "stdout",
     "output_type": "stream",
     "text": [
      "14\n"
     ]
    }
   ],
   "source": [
    "def decor1(sq):\n",
    "    def square(a):\n",
    "        return sq(a)\n",
    "    return square\n",
    "\n",
    "def decor2(ten):\n",
    "    def add_ten(a):\n",
    "        return ten(a)\n",
    "    return add_ten\n",
    "\n",
    "@decor1\n",
    "def sq(a):\n",
    "    return a**2\n",
    "\n",
    "@decor2\n",
    "def ten(a):\n",
    "    return a+10\n",
    "\n",
    "print(ten(sq(2)))"
   ]
  },
  {
   "cell_type": "code",
   "execution_count": null,
   "metadata": {},
   "outputs": [],
   "source": []
  }
 ],
 "metadata": {
  "kernelspec": {
   "display_name": "Python 3",
   "language": "python",
   "name": "python3"
  },
  "language_info": {
   "codemirror_mode": {
    "name": "ipython",
    "version": 3
   },
   "file_extension": ".py",
   "mimetype": "text/x-python",
   "name": "python",
   "nbconvert_exporter": "python",
   "pygments_lexer": "ipython3",
   "version": "3.8.5"
  }
 },
 "nbformat": 4,
 "nbformat_minor": 2
}
